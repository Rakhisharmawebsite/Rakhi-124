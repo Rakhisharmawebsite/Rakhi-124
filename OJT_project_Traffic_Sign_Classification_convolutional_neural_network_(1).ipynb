{
  "cells": [
    {
      "cell_type": "markdown",
      "metadata": {
        "id": "view-in-github",
        "colab_type": "text"
      },
      "source": [
        "<a href=\"https://colab.research.google.com/github/Rakhisharmawebsite/Rakhi-124/blob/main/OJT_project_Traffic_Sign_Classification_convolutional_neural_network_(1).ipynb\" target=\"_parent\"><img src=\"https://colab.research.google.com/assets/colab-badge.svg\" alt=\"Open In Colab\"/></a>"
      ]
    },
    {
      "cell_type": "code",
      "execution_count": null,
      "metadata": {
        "id": "-y2kib9o_aYY",
        "colab": {
          "base_uri": "https://localhost:8080/"
        },
        "outputId": "b23b0bae-cae3-4d98-e042-ca37f22ae359"
      },
      "outputs": [
        {
          "output_type": "stream",
          "name": "stdout",
          "text": [
            "Mounted at /content/drive\n"
          ]
        }
      ],
      "source": [
        "from google.colab import drive\n",
        "drive.mount('/content/drive')"
      ]
    },
    {
      "cell_type": "code",
      "execution_count": null,
      "metadata": {
        "id": "qYo1oxkh_0Y4"
      },
      "outputs": [],
      "source": [
        "root_path = '/content/drive/MyDrive/dataset'"
      ]
    },
    {
      "cell_type": "code",
      "execution_count": null,
      "metadata": {
        "id": "i9pA-QG4_5CF"
      },
      "outputs": [],
      "source": [
        "import tensorflow as tf\n",
        "from tensorflow.keras.models import Sequential\n",
        "from tensorflow.keras.layers import Dense, Conv2D, MaxPooling2D, Flatten\n",
        "import numpy as np\n",
        "import matplotlib.pyplot as plt\n",
        "import pandas as pd"
      ]
    },
    {
      "cell_type": "code",
      "execution_count": null,
      "metadata": {
        "colab": {
          "base_uri": "https://localhost:8080/"
        },
        "id": "4wBE8U2nN4ZC",
        "outputId": "3713ef45-f6e8-4d32-b116-ced66cde3859"
      },
      "outputs": [
        {
          "output_type": "stream",
          "name": "stdout",
          "text": [
            "2.8.0\n"
          ]
        }
      ],
      "source": [
        "print(tf.__version__)"
      ]
    },
    {
      "cell_type": "markdown",
      "metadata": {
        "id": "oExORXbXgf0g"
      },
      "source": [
        "# Step-1 Image Prosessing \n",
        "Read Image"
      ]
    },
    {
      "cell_type": "code",
      "execution_count": null,
      "metadata": {
        "colab": {
          "base_uri": "https://localhost:8080/"
        },
        "id": "11rDZmJXOB5u",
        "outputId": "fec45bab-b8b6-4956-c019-ba7b2ba562c0"
      },
      "outputs": [
        {
          "output_type": "stream",
          "name": "stdout",
          "text": [
            "[[[50 47 46]\n",
            "  [38 37 42]\n",
            "  [40 40 44]\n",
            "  ...\n",
            "  [24 24 29]\n",
            "  [22 23 29]\n",
            "  [20 22 28]]\n",
            "\n",
            " [[46 46 46]\n",
            "  [38 38 46]\n",
            "  [44 42 47]\n",
            "  ...\n",
            "  [21 22 28]\n",
            "  [21 22 28]\n",
            "  [21 23 29]]\n",
            "\n",
            " [[38 42 45]\n",
            "  [40 40 47]\n",
            "  [46 42 44]\n",
            "  ...\n",
            "  [19 21 27]\n",
            "  [19 21 27]\n",
            "  [20 23 29]]\n",
            "\n",
            " ...\n",
            "\n",
            " [[55 41 40]\n",
            "  [43 38 38]\n",
            "  [28 32 34]\n",
            "  ...\n",
            "  [26 28 31]\n",
            "  [28 27 30]\n",
            "  [31 27 29]]\n",
            "\n",
            " [[50 46 43]\n",
            "  [42 41 38]\n",
            "  [35 37 37]\n",
            "  ...\n",
            "  [28 30 32]\n",
            "  [27 27 30]\n",
            "  [28 26 29]]\n",
            "\n",
            " [[34 39 38]\n",
            "  [32 34 34]\n",
            "  [33 33 34]\n",
            "  ...\n",
            "  [25 28 31]\n",
            "  [25 26 29]\n",
            "  [26 26 29]]]\n"
          ]
        }
      ],
      "source": [
        "import numpy as np\n",
        "import matplotlib.pylab as plt\n",
        "%matplotlib inline\n",
        "image = plt.imread(\"/content/drive/MyDrive/dataset/train_set/Bicycles crossing/img14.jpg\")\n",
        "print(image)"
      ]
    },
    {
      "cell_type": "code",
      "execution_count": null,
      "metadata": {
        "colab": {
          "base_uri": "https://localhost:8080/",
          "height": 267
        },
        "id": "lxdG6PVuOPv7",
        "outputId": "41d69f1d-618d-4e57-e944-9ef02d919d16"
      },
      "outputs": [
        {
          "output_type": "display_data",
          "data": {
            "image/png": "[encoded data removed]",
            "text/plain": [
              "<Figure size 432x288 with 1 Axes>"
            ]
          },
          "metadata": {
            "needs_background": "light"
          }
        }
      ],
      "source": [
        "imgplot = plt.imshow(image)"
      ]
    },
    {
      "cell_type": "code",
      "execution_count": null,
      "metadata": {
        "colab": {
          "base_uri": "https://localhost:8080/",
          "height": 250
        },
        "id": "vzgNXuqCOpZZ",
        "outputId": "e8fe313e-8d37-456e-8e63-fcf7f3d345fc"
      },
      "outputs": [
        {
          "output_type": "display_data",
          "data": {
            "image/png": "[encoded data removed]",
            "text/plain": [
              "<Figure size 432x288 with 1 Axes>"
            ]
          },
          "metadata": {
            "needs_background": "light"
          }
        }
      ],
      "source": [
        "crop_img = image[20:199,:200,:]    \n",
        "imgplot = plt.imshow(crop_img)"
      ]
    },
    {
      "cell_type": "markdown",
      "metadata": {
        "id": "rgqZzHYBhTzF"
      },
      "source": [
        "# Convert Image to RGB"
      ]
    },
    {
      "cell_type": "code",
      "execution_count": null,
      "metadata": {
        "colab": {
          "base_uri": "https://localhost:8080/",
          "height": 210
        },
        "id": "pFgI5SoSOuQn",
        "outputId": "01fddc02-e5b8-4454-8883-8cb7d4447795"
      },
      "outputs": [
        {
          "output_type": "display_data",
          "data": {
            "image/png": "[encoded data removed]",
            "text/plain": [
              "<Figure size 864x360 with 3 Axes>"
            ]
          },
          "metadata": {
            "needs_background": "light"
          }
        }
      ],
      "source": [
        "fig, axs = plt.subplots(nrows=1, ncols=3, figsize=(12,5))\n",
        " \n",
        "for c, ax in zip(range(3), axs):\n",
        "    rgb_img = np.zeros(image.shape, dtype=\"uint8\")\n",
        "    rgb_img[:,:,c] = image[:,:,c]\n",
        "    ax.imshow(rgb_img)\n",
        "    ax.set_axis_off()"
      ]
    },
    {
      "cell_type": "markdown",
      "metadata": {
        "id": "9xqM6Meehjoz"
      },
      "source": [
        "#Normalised the Image"
      ]
    },
    {
      "cell_type": "code",
      "execution_count": null,
      "metadata": {
        "colab": {
          "base_uri": "https://localhost:8080/",
          "height": 302
        },
        "id": "CUWWbXW9O3B-",
        "outputId": "5f34abb3-5c79-4ae0-9527-b44eb73648d6"
      },
      "outputs": [
        {
          "output_type": "stream",
          "name": "stderr",
          "text": [
            "/usr/local/lib/python3.7/dist-packages/ipykernel_launcher.py:2: RuntimeWarning: divide by zero encountered in true_divide\n",
            "  \n"
          ]
        },
        {
          "output_type": "display_data",
          "data": {
            "image/png": "[encoded data removed]",
            "text/plain": [
              "<Figure size 432x288 with 1 Axes>"
            ]
          },
          "metadata": {
            "needs_background": "light"
          }
        }
      ],
      "source": [
        "def do_normalise(image):\n",
        "    return -np.log(1/((1 + image)/257) - 1)\n",
        "def undo_normalise(image):\n",
        "    return (1 + 1/(np.exp(-image) + 1) * 257).astype(\"uint8\")\n",
        "def rotation_matrix(theta):\n",
        "    return np.c_[\n",
        "        [1,0,0],\n",
        "        [0,np.cos(theta),-np.sin(theta)],\n",
        "        [0,np.sin(theta),np.cos(theta)]\n",
        "    ]\n",
        "img_norm = do_normalise(image)\n",
        "img_rot = np.einsum(\"ijk,lk->ijl\", img_norm, rotation_matrix(np.pi))\n",
        "img = undo_normalise(img_rot)\n",
        " \n",
        "imgplot = plt.imshow(img)"
      ]
    },
    {
      "cell_type": "markdown",
      "metadata": {
        "id": "4K4tda3Th-kX"
      },
      "source": [
        "# Convert Image to Grayscale  _ rgb wights "
      ]
    },
    {
      "cell_type": "code",
      "execution_count": null,
      "metadata": {
        "colab": {
          "base_uri": "https://localhost:8080/",
          "height": 267
        },
        "id": "Wt0ZSpjnQJcK",
        "outputId": "b4dbf6ea-44ca-46ee-92a9-eab88d6144e4"
      },
      "outputs": [
        {
          "output_type": "display_data",
          "data": {
            "image/png": "[encoded data removed]",
            "text/plain": [
              "<Figure size 432x288 with 1 Axes>"
            ]
          },
          "metadata": {
            "needs_background": "light"
          }
        }
      ],
      "source": [
        "rgb_weights = [0.2989, 0.5870, 0.1140]\n",
        "grayscale_image = np.dot(image[...,:3], rgb_weights)\n",
        "imgplot = plt.imshow(grayscale_image)"
      ]
    },
    {
      "cell_type": "code",
      "execution_count": null,
      "metadata": {
        "id": "GkGDrgiQQQ0Q"
      },
      "outputs": [],
      "source": [
        "def to_grayscale(image, weights = np.c_[0.2, 0.5, 0.1]):\n",
        "    tile = np.tile(weights, reps=(image.shape[0],image.shape[1],1))\n",
        "    return np.sum(tile * image, axis=2)"
      ]
    },
    {
      "cell_type": "code",
      "execution_count": null,
      "metadata": {
        "colab": {
          "base_uri": "https://localhost:8080/",
          "height": 267
        },
        "id": "clE0joVgQg3G",
        "outputId": "d1f97a05-7d47-4b60-bfae-bba6d731785a"
      },
      "outputs": [
        {
          "output_type": "display_data",
          "data": {
            "image/png": "[encoded data removed]",
            "text/plain": [
              "<Figure size 432x288 with 1 Axes>"
            ]
          },
          "metadata": {
            "needs_background": "light"
          }
        }
      ],
      "source": [
        "rgb_weights = [0.2989, 0.5870, 0.1140]\n",
        "grayscale_image = np.dot(image[...,:3], rgb_weights)\n",
        "imgplot = plt.imshow(grayscale_image)"
      ]
    },
    {
      "cell_type": "code",
      "execution_count": null,
      "metadata": {
        "colab": {
          "base_uri": "https://localhost:8080/",
          "height": 230
        },
        "id": "GWhOkSlXQpD_",
        "outputId": "2f5c9335-eb00-42de-8da6-7f003803766f"
      },
      "outputs": [
        {
          "output_type": "display_data",
          "data": {
            "image/png": "[encoded data removed]",
            "text/plain": [
              "<Figure size 1440x360 with 4 Axes>"
            ]
          },
          "metadata": {
            "needs_background": "light"
          }
        }
      ],
      "source": [
        "def simple_threshold(image, threshold=120):\n",
        "    return ((image > threshold) * 255).astype(\"uint8\")\n",
        "\n",
        "thresholds = [80,100,115,130]\n",
        "\n",
        "fig, axs = plt.subplots(nrows=1, ncols=len(thresholds), figsize=(20,5));\n",
        "gray_im = to_grayscale(image)\n",
        "                        \n",
        "for t, ax in zip(thresholds, axs):\n",
        "    ax.imshow(simple_threshold(gray_im, t), cmap='Greys');\n",
        "    ax.set_title(\"Threshold: {}\".format(t), fontsize=20);\n",
        "    ax.set_axis_off();"
      ]
    },
    {
      "cell_type": "markdown",
      "metadata": {
        "id": "3DR-eO17geWu"
      },
      "source": [
        "# Convolutional Neural Network"
      ]
    },
    {
      "cell_type": "markdown",
      "metadata": {
        "id": "EMefrVPCg-60"
      },
      "source": [
        "### Importing the libraries"
      ]
    },
    {
      "cell_type": "code",
      "execution_count": null,
      "metadata": {
        "id": "sCV30xyVhFbE"
      },
      "outputs": [],
      "source": [
        "import tensorflow as tf\n",
        "from keras.preprocessing.image import ImageDataGenerator"
      ]
    },
    {
      "cell_type": "code",
      "execution_count": null,
      "metadata": {
        "colab": {
          "base_uri": "https://localhost:8080/",
          "height": 35
        },
        "id": "FIleuCAjoFD8",
        "outputId": "ca014e7b-1d67-406d-c554-fe2f4a73b434"
      },
      "outputs": [
        {
          "output_type": "execute_result",
          "data": {
            "application/vnd.google.colaboratory.intrinsic+json": {
              "type": "string"
            },
            "text/plain": [
              "'2.8.0'"
            ]
          },
          "metadata": {},
          "execution_count": 15
        }
      ],
      "source": [
        "tf.__version__"
      ]
    },
    {
      "cell_type": "markdown",
      "metadata": {
        "id": "oxQxCBWyoGPE"
      },
      "source": [
        "## Part 1 - Data Preprocessing"
      ]
    },
    {
      "cell_type": "markdown",
      "metadata": {
        "id": "MvE-heJNo3GG"
      },
      "source": [
        "### Preprocessing the Training set"
      ]
    },
    {
      "cell_type": "code",
      "execution_count": null,
      "metadata": {
        "colab": {
          "base_uri": "https://localhost:8080/"
        },
        "id": "0koUcJMJpEBD",
        "outputId": "dd3e8a73-6eb0-4277-89a8-9491e2fe955d"
      },
      "outputs": [
        {
          "output_type": "stream",
          "name": "stdout",
          "text": [
            "Found 956 images belonging to 43 classes.\n"
          ]
        }
      ],
      "source": [
        "train_datagen = ImageDataGenerator(rescale = 1./255,\n",
        "                                   shear_range = 0.2,\n",
        "                                   zoom_range = 0.2,\n",
        "                                   horizontal_flip = True)\n",
        "training_set = train_datagen.flow_from_directory('/content/drive/MyDrive/dataset/train_set',\n",
        "                                                 target_size = (64, 64),\n",
        "                                                 batch_size = 32,\n",
        "                                                 class_mode = 'categorical')"
      ]
    },
    {
      "cell_type": "markdown",
      "metadata": {
        "id": "mrCMmGw9pHys"
      },
      "source": [
        "### Preprocessing the Test set"
      ]
    },
    {
      "cell_type": "code",
      "execution_count": null,
      "metadata": {
        "colab": {
          "base_uri": "https://localhost:8080/"
        },
        "id": "SH4WzfOhpKc3",
        "outputId": "e284142f-cd09-409b-f1c3-9a054618ce7e"
      },
      "outputs": [
        {
          "output_type": "stream",
          "name": "stdout",
          "text": [
            "Found 431 images belonging to 43 classes.\n"
          ]
        }
      ],
      "source": [
        "test_datagen = ImageDataGenerator(rescale = 1./255)\n",
        "test_set = test_datagen.flow_from_directory('/content/drive/MyDrive/dataset/test_set',\n",
        "                                            target_size = (64, 64),\n",
        "                                            batch_size = 32,\n",
        "                                            class_mode = 'categorical')"
      ]
    },
    {
      "cell_type": "markdown",
      "metadata": {
        "id": "af8O4l90gk7B"
      },
      "source": [
        "## Part 2 - Building the CNN"
      ]
    },
    {
      "cell_type": "markdown",
      "metadata": {
        "id": "ces1gXY2lmoX"
      },
      "source": [
        "### Initialising the CNN"
      ]
    },
    {
      "cell_type": "code",
      "execution_count": null,
      "metadata": {
        "id": "SAUt4UMPlhLS"
      },
      "outputs": [],
      "source": [
        "cnn = tf.keras.models.Sequential()"
      ]
    },
    {
      "cell_type": "markdown",
      "metadata": {
        "id": "u5YJj_XMl5LF"
      },
      "source": [
        "### Step 1 - Convolution"
      ]
    },
    {
      "cell_type": "code",
      "execution_count": null,
      "metadata": {
        "id": "XPzPrMckl-hV"
      },
      "outputs": [],
      "source": [
        "cnn.add(tf.keras.layers.Conv2D(filters=32, kernel_size=3, activation='relu', input_shape=[64, 64, 3]))"
      ]
    },
    {
      "cell_type": "markdown",
      "metadata": {
        "id": "tf87FpvxmNOJ"
      },
      "source": [
        "### Step 2 - Pooling"
      ]
    },
    {
      "cell_type": "code",
      "execution_count": null,
      "metadata": {
        "id": "ncpqPl69mOac"
      },
      "outputs": [],
      "source": [
        "cnn.add(tf.keras.layers.MaxPool2D(pool_size=2, strides=2))"
      ]
    },
    {
      "cell_type": "markdown",
      "metadata": {
        "id": "xaTOgD8rm4mU"
      },
      "source": [
        "### Adding a second convolutional layer"
      ]
    },
    {
      "cell_type": "code",
      "execution_count": null,
      "metadata": {
        "id": "i_-FZjn_m8gk"
      },
      "outputs": [],
      "source": [
        "cnn.add(tf.keras.layers.Conv2D(filters=32, kernel_size=3, activation='relu'))\n",
        "cnn.add(tf.keras.layers.MaxPool2D(pool_size=2, strides=2))"
      ]
    },
    {
      "cell_type": "markdown",
      "metadata": {
        "id": "tmiEuvTunKfk"
      },
      "source": [
        "### Step 3 - Flattening"
      ]
    },
    {
      "cell_type": "code",
      "execution_count": null,
      "metadata": {
        "id": "6AZeOGCvnNZn"
      },
      "outputs": [],
      "source": [
        "cnn.add(tf.keras.layers.Flatten())"
      ]
    },
    {
      "cell_type": "markdown",
      "metadata": {
        "id": "dAoSECOm203v"
      },
      "source": [
        "### Step 4 - Full Connection"
      ]
    },
    {
      "cell_type": "code",
      "execution_count": null,
      "metadata": {
        "id": "8GtmUlLd26Nq"
      },
      "outputs": [],
      "source": [
        "cnn.add(tf.keras.layers.Dense(units=128, activation='relu'))"
      ]
    },
    {
      "cell_type": "markdown",
      "metadata": {
        "id": "yTldFvbX28Na"
      },
      "source": [
        "### Step 5 - Output Layer"
      ]
    },
    {
      "cell_type": "code",
      "execution_count": null,
      "metadata": {
        "id": "1p_Zj1Mc3Ko_"
      },
      "outputs": [],
      "source": [
        "cnn.add(tf.keras.layers.Dense(units=43, activation='softmax'))"
      ]
    },
    {
      "cell_type": "markdown",
      "metadata": {
        "id": "D6XkI90snSDl"
      },
      "source": [
        "## Part 3 - Training the CNN"
      ]
    },
    {
      "cell_type": "markdown",
      "metadata": {
        "id": "vfrFQACEnc6i"
      },
      "source": [
        "### Compiling the CNN"
      ]
    },
    {
      "cell_type": "code",
      "execution_count": null,
      "metadata": {
        "id": "NALksrNQpUlJ"
      },
      "outputs": [],
      "source": [
        "cnn.compile(optimizer = 'adam', loss = 'categorical_crossentropy', metrics = ['accuracy'])"
      ]
    },
    {
      "cell_type": "markdown",
      "metadata": {
        "id": "ehS-v3MIpX2h"
      },
      "source": [
        "### Training the CNN on the Training set and evaluating it on the Test set"
      ]
    },
    {
      "cell_type": "code",
      "execution_count": null,
      "metadata": {
        "colab": {
          "base_uri": "https://localhost:8080/"
        },
        "id": "XUj1W4PJptta",
        "outputId": "59234c7e-0877-4b7a-872c-d105597b7dd7"
      },
      "outputs": [
        {
          "output_type": "stream",
          "name": "stdout",
          "text": [
            "Epoch 1/50\n",
            "30/30 [==============================] - 454s 15s/step - loss: 3.3659 - accuracy: 0.1370 - val_loss: 2.2756 - val_accuracy: 0.4014\n",
            "Epoch 2/50\n",
            "30/30 [==============================] - 4s 148ms/step - loss: 1.6569 - accuracy: 0.5502 - val_loss: 0.8570 - val_accuracy: 0.8121\n",
            "Epoch 3/50\n",
            "30/30 [==============================] - 4s 148ms/step - loss: 0.8178 - accuracy: 0.7981 - val_loss: 0.5301 - val_accuracy: 0.8376\n",
            "Epoch 4/50\n",
            "30/30 [==============================] - 4s 146ms/step - loss: 0.4684 - accuracy: 0.8891 - val_loss: 0.2494 - val_accuracy: 0.9513\n",
            "Epoch 5/50\n",
            "30/30 [==============================] - 4s 148ms/step - loss: 0.3129 - accuracy: 0.9142 - val_loss: 0.2197 - val_accuracy: 0.9443\n",
            "Epoch 6/50\n",
            "30/30 [==============================] - 4s 147ms/step - loss: 0.2274 - accuracy: 0.9487 - val_loss: 0.0982 - val_accuracy: 0.9814\n",
            "Epoch 7/50\n",
            "30/30 [==============================] - 4s 146ms/step - loss: 0.1639 - accuracy: 0.9644 - val_loss: 0.2884 - val_accuracy: 0.9466\n",
            "Epoch 8/50\n",
            "30/30 [==============================] - 4s 146ms/step - loss: 0.3606 - accuracy: 0.9236 - val_loss: 0.1494 - val_accuracy: 0.9768\n",
            "Epoch 9/50\n",
            "30/30 [==============================] - 4s 147ms/step - loss: 0.1360 - accuracy: 0.9676 - val_loss: 0.0581 - val_accuracy: 0.9884\n",
            "Epoch 10/50\n",
            "30/30 [==============================] - 4s 147ms/step - loss: 0.0528 - accuracy: 0.9969 - val_loss: 0.0227 - val_accuracy: 1.0000\n",
            "Epoch 11/50\n",
            "30/30 [==============================] - 4s 148ms/step - loss: 0.0434 - accuracy: 0.9916 - val_loss: 0.0223 - val_accuracy: 1.0000\n",
            "Epoch 12/50\n",
            "30/30 [==============================] - 4s 148ms/step - loss: 0.0693 - accuracy: 0.9812 - val_loss: 0.1765 - val_accuracy: 0.9536\n",
            "Epoch 13/50\n",
            "30/30 [==============================] - 4s 146ms/step - loss: 0.0842 - accuracy: 0.9843 - val_loss: 0.0303 - val_accuracy: 0.9954\n",
            "Epoch 14/50\n",
            "30/30 [==============================] - 4s 147ms/step - loss: 0.0429 - accuracy: 0.9895 - val_loss: 0.0085 - val_accuracy: 1.0000\n",
            "Epoch 15/50\n",
            "30/30 [==============================] - 4s 146ms/step - loss: 0.0404 - accuracy: 0.9906 - val_loss: 0.1213 - val_accuracy: 0.9768\n",
            "Epoch 16/50\n",
            "30/30 [==============================] - 4s 146ms/step - loss: 0.0701 - accuracy: 0.9864 - val_loss: 0.1098 - val_accuracy: 0.9675\n",
            "Epoch 17/50\n",
            "30/30 [==============================] - 4s 147ms/step - loss: 0.0567 - accuracy: 0.9885 - val_loss: 0.0109 - val_accuracy: 0.9977\n",
            "Epoch 18/50\n",
            "30/30 [==============================] - 4s 144ms/step - loss: 0.0467 - accuracy: 0.9895 - val_loss: 0.0048 - val_accuracy: 1.0000\n",
            "Epoch 19/50\n",
            "30/30 [==============================] - 4s 146ms/step - loss: 0.0230 - accuracy: 0.9958 - val_loss: 0.0029 - val_accuracy: 1.0000\n",
            "Epoch 20/50\n",
            "30/30 [==============================] - 4s 144ms/step - loss: 0.0137 - accuracy: 0.9979 - val_loss: 0.0028 - val_accuracy: 1.0000\n",
            "Epoch 21/50\n",
            "30/30 [==============================] - 4s 145ms/step - loss: 0.0068 - accuracy: 1.0000 - val_loss: 0.0013 - val_accuracy: 1.0000\n",
            "Epoch 22/50\n",
            "30/30 [==============================] - 4s 145ms/step - loss: 0.0194 - accuracy: 0.9958 - val_loss: 0.0100 - val_accuracy: 0.9954\n",
            "Epoch 23/50\n",
            "30/30 [==============================] - 4s 144ms/step - loss: 0.1060 - accuracy: 0.9801 - val_loss: 0.0414 - val_accuracy: 0.9814\n",
            "Epoch 24/50\n",
            "30/30 [==============================] - 4s 146ms/step - loss: 0.0442 - accuracy: 0.9916 - val_loss: 0.0180 - val_accuracy: 0.9954\n",
            "Epoch 25/50\n",
            "30/30 [==============================] - 4s 149ms/step - loss: 0.0091 - accuracy: 1.0000 - val_loss: 0.0020 - val_accuracy: 1.0000\n",
            "Epoch 26/50\n",
            "30/30 [==============================] - 4s 147ms/step - loss: 0.0036 - accuracy: 1.0000 - val_loss: 0.0011 - val_accuracy: 1.0000\n",
            "Epoch 27/50\n",
            "30/30 [==============================] - 4s 148ms/step - loss: 0.0123 - accuracy: 0.9969 - val_loss: 0.0019 - val_accuracy: 1.0000\n",
            "Epoch 28/50\n",
            "30/30 [==============================] - 4s 147ms/step - loss: 0.0056 - accuracy: 0.9990 - val_loss: 0.0011 - val_accuracy: 1.0000\n",
            "Epoch 29/50\n",
            "30/30 [==============================] - 4s 147ms/step - loss: 0.0130 - accuracy: 0.9969 - val_loss: 0.0044 - val_accuracy: 1.0000\n",
            "Epoch 30/50\n",
            "30/30 [==============================] - 4s 147ms/step - loss: 0.0136 - accuracy: 0.9969 - val_loss: 0.0189 - val_accuracy: 0.9907\n",
            "Epoch 31/50\n",
            "30/30 [==============================] - 4s 147ms/step - loss: 0.0076 - accuracy: 0.9990 - val_loss: 6.5976e-04 - val_accuracy: 1.0000\n",
            "Epoch 32/50\n",
            "30/30 [==============================] - 4s 146ms/step - loss: 0.0061 - accuracy: 0.9979 - val_loss: 0.0010 - val_accuracy: 1.0000\n",
            "Epoch 33/50\n",
            "30/30 [==============================] - 4s 147ms/step - loss: 0.0199 - accuracy: 0.9958 - val_loss: 0.0025 - val_accuracy: 1.0000\n",
            "Epoch 34/50\n",
            "30/30 [==============================] - 4s 149ms/step - loss: 0.0034 - accuracy: 1.0000 - val_loss: 6.0843e-04 - val_accuracy: 1.0000\n",
            "Epoch 35/50\n",
            "30/30 [==============================] - 4s 148ms/step - loss: 0.0024 - accuracy: 1.0000 - val_loss: 4.7395e-04 - val_accuracy: 1.0000\n",
            "Epoch 36/50\n",
            "30/30 [==============================] - 4s 146ms/step - loss: 0.0056 - accuracy: 0.9979 - val_loss: 0.0010 - val_accuracy: 1.0000\n",
            "Epoch 37/50\n",
            "30/30 [==============================] - 4s 148ms/step - loss: 0.0325 - accuracy: 0.9927 - val_loss: 0.0160 - val_accuracy: 0.9954\n",
            "Epoch 38/50\n",
            "30/30 [==============================] - 4s 146ms/step - loss: 0.0200 - accuracy: 0.9969 - val_loss: 0.0031 - val_accuracy: 1.0000\n",
            "Epoch 39/50\n",
            "30/30 [==============================] - 4s 147ms/step - loss: 0.0036 - accuracy: 1.0000 - val_loss: 5.8415e-04 - val_accuracy: 1.0000\n",
            "Epoch 40/50\n",
            "30/30 [==============================] - 4s 147ms/step - loss: 0.0145 - accuracy: 0.9937 - val_loss: 0.0015 - val_accuracy: 1.0000\n",
            "Epoch 41/50\n",
            "30/30 [==============================] - 4s 147ms/step - loss: 0.0322 - accuracy: 0.9937 - val_loss: 0.0033 - val_accuracy: 1.0000\n",
            "Epoch 42/50\n",
            "30/30 [==============================] - 4s 147ms/step - loss: 0.0390 - accuracy: 0.9916 - val_loss: 0.0101 - val_accuracy: 1.0000\n",
            "Epoch 43/50\n",
            "30/30 [==============================] - 4s 147ms/step - loss: 0.0140 - accuracy: 0.9969 - val_loss: 9.1180e-04 - val_accuracy: 1.0000\n",
            "Epoch 44/50\n",
            "30/30 [==============================] - 4s 145ms/step - loss: 0.0463 - accuracy: 0.9906 - val_loss: 0.0147 - val_accuracy: 0.9907\n",
            "Epoch 45/50\n",
            "30/30 [==============================] - 4s 145ms/step - loss: 0.0138 - accuracy: 0.9969 - val_loss: 0.0024 - val_accuracy: 1.0000\n",
            "Epoch 46/50\n",
            "30/30 [==============================] - 4s 147ms/step - loss: 0.0035 - accuracy: 1.0000 - val_loss: 6.5759e-04 - val_accuracy: 1.0000\n",
            "Epoch 47/50\n",
            "30/30 [==============================] - 4s 147ms/step - loss: 0.0383 - accuracy: 0.9906 - val_loss: 0.0024 - val_accuracy: 1.0000\n",
            "Epoch 48/50\n",
            "30/30 [==============================] - 4s 145ms/step - loss: 0.0048 - accuracy: 1.0000 - val_loss: 2.8337e-04 - val_accuracy: 1.0000\n",
            "Epoch 49/50\n",
            "30/30 [==============================] - 4s 146ms/step - loss: 0.0187 - accuracy: 0.9979 - val_loss: 5.0757e-04 - val_accuracy: 1.0000\n",
            "Epoch 50/50\n",
            "30/30 [==============================] - 4s 146ms/step - loss: 0.0033 - accuracy: 1.0000 - val_loss: 3.0270e-04 - val_accuracy: 1.0000\n"
          ]
        },
        {
          "output_type": "execute_result",
          "data": {
            "text/plain": [
              "<keras.callbacks.History at 0x7f81e12f10d0>"
            ]
          },
          "metadata": {},
          "execution_count": 28
        }
      ],
      "source": [
        "cnn.fit(x = training_set, validation_data = test_set, epochs = 50)"
      ]
    },
    {
      "cell_type": "code",
      "execution_count": null,
      "metadata": {
        "colab": {
          "base_uri": "https://localhost:8080/"
        },
        "id": "tcwPR5fwDXRG",
        "outputId": "e9d919bb-d0cb-4fe1-a920-810ffdf80a86"
      },
      "outputs": [
        {
          "output_type": "stream",
          "name": "stdout",
          "text": [
            "Epoch 1/50\n",
            "30/30 [==============================] - 4s 149ms/step - loss: 0.0020 - accuracy: 1.0000 - val_loss: 3.0469e-04 - val_accuracy: 1.0000\n",
            "Epoch 2/50\n",
            "30/30 [==============================] - 5s 152ms/step - loss: 0.0012 - accuracy: 1.0000 - val_loss: 1.1149e-04 - val_accuracy: 1.0000\n",
            "Epoch 3/50\n",
            "30/30 [==============================] - 5s 153ms/step - loss: 7.1938e-04 - accuracy: 1.0000 - val_loss: 1.0624e-04 - val_accuracy: 1.0000\n",
            "Epoch 4/50\n",
            "30/30 [==============================] - 4s 149ms/step - loss: 5.1915e-04 - accuracy: 1.0000 - val_loss: 8.8043e-05 - val_accuracy: 1.0000\n",
            "Epoch 5/50\n",
            "30/30 [==============================] - 4s 148ms/step - loss: 4.0093e-04 - accuracy: 1.0000 - val_loss: 8.3521e-05 - val_accuracy: 1.0000\n",
            "Epoch 6/50\n",
            "30/30 [==============================] - 4s 146ms/step - loss: 7.4080e-04 - accuracy: 1.0000 - val_loss: 1.1719e-04 - val_accuracy: 1.0000\n",
            "Epoch 7/50\n",
            "30/30 [==============================] - 4s 148ms/step - loss: 4.6594e-04 - accuracy: 1.0000 - val_loss: 8.2040e-05 - val_accuracy: 1.0000\n",
            "Epoch 8/50\n",
            "30/30 [==============================] - 4s 146ms/step - loss: 2.5312e-04 - accuracy: 1.0000 - val_loss: 6.3210e-05 - val_accuracy: 1.0000\n",
            "Epoch 9/50\n",
            "30/30 [==============================] - 4s 146ms/step - loss: 2.9602e-04 - accuracy: 1.0000 - val_loss: 5.8964e-05 - val_accuracy: 1.0000\n",
            "Epoch 10/50\n",
            "30/30 [==============================] - 4s 145ms/step - loss: 2.3514e-04 - accuracy: 1.0000 - val_loss: 5.8019e-05 - val_accuracy: 1.0000\n",
            "Epoch 11/50\n",
            "30/30 [==============================] - 4s 147ms/step - loss: 2.5878e-04 - accuracy: 1.0000 - val_loss: 5.2435e-05 - val_accuracy: 1.0000\n",
            "Epoch 12/50\n",
            "30/30 [==============================] - 4s 148ms/step - loss: 1.8884e-04 - accuracy: 1.0000 - val_loss: 4.9271e-05 - val_accuracy: 1.0000\n",
            "Epoch 13/50\n",
            "30/30 [==============================] - 4s 146ms/step - loss: 2.1420e-04 - accuracy: 1.0000 - val_loss: 4.6724e-05 - val_accuracy: 1.0000\n",
            "Epoch 14/50\n",
            "30/30 [==============================] - 4s 146ms/step - loss: 1.7996e-04 - accuracy: 1.0000 - val_loss: 4.3011e-05 - val_accuracy: 1.0000\n",
            "Epoch 15/50\n",
            "30/30 [==============================] - 4s 146ms/step - loss: 1.6813e-04 - accuracy: 1.0000 - val_loss: 4.2140e-05 - val_accuracy: 1.0000\n",
            "Epoch 16/50\n",
            "30/30 [==============================] - 4s 146ms/step - loss: 3.1224e-04 - accuracy: 1.0000 - val_loss: 3.7154e-05 - val_accuracy: 1.0000\n",
            "Epoch 17/50\n",
            "30/30 [==============================] - 4s 147ms/step - loss: 2.2636e-04 - accuracy: 1.0000 - val_loss: 3.5196e-05 - val_accuracy: 1.0000\n",
            "Epoch 18/50\n",
            "30/30 [==============================] - 4s 147ms/step - loss: 1.8058e-04 - accuracy: 1.0000 - val_loss: 3.5199e-05 - val_accuracy: 1.0000\n",
            "Epoch 19/50\n",
            "30/30 [==============================] - 4s 146ms/step - loss: 1.9948e-04 - accuracy: 1.0000 - val_loss: 3.2944e-05 - val_accuracy: 1.0000\n",
            "Epoch 20/50\n",
            "30/30 [==============================] - 4s 147ms/step - loss: 1.3491e-04 - accuracy: 1.0000 - val_loss: 3.1339e-05 - val_accuracy: 1.0000\n",
            "Epoch 21/50\n",
            "30/30 [==============================] - 4s 146ms/step - loss: 1.4306e-04 - accuracy: 1.0000 - val_loss: 3.0322e-05 - val_accuracy: 1.0000\n",
            "Epoch 22/50\n",
            "30/30 [==============================] - 4s 144ms/step - loss: 1.4476e-04 - accuracy: 1.0000 - val_loss: 2.9735e-05 - val_accuracy: 1.0000\n",
            "Epoch 23/50\n",
            "30/30 [==============================] - 4s 146ms/step - loss: 1.1635e-04 - accuracy: 1.0000 - val_loss: 2.8400e-05 - val_accuracy: 1.0000\n",
            "Epoch 24/50\n",
            "30/30 [==============================] - 4s 145ms/step - loss: 1.5804e-04 - accuracy: 1.0000 - val_loss: 2.9135e-05 - val_accuracy: 1.0000\n",
            "Epoch 25/50\n",
            "30/30 [==============================] - 4s 145ms/step - loss: 1.2649e-04 - accuracy: 1.0000 - val_loss: 2.8114e-05 - val_accuracy: 1.0000\n",
            "Epoch 26/50\n",
            "30/30 [==============================] - 4s 148ms/step - loss: 1.2305e-04 - accuracy: 1.0000 - val_loss: 2.7007e-05 - val_accuracy: 1.0000\n",
            "Epoch 27/50\n",
            "30/30 [==============================] - 4s 147ms/step - loss: 1.3247e-04 - accuracy: 1.0000 - val_loss: 2.4988e-05 - val_accuracy: 1.0000\n",
            "Epoch 28/50\n",
            "30/30 [==============================] - 4s 145ms/step - loss: 8.4295e-05 - accuracy: 1.0000 - val_loss: 2.4087e-05 - val_accuracy: 1.0000\n",
            "Epoch 29/50\n",
            "30/30 [==============================] - 4s 145ms/step - loss: 1.1749e-04 - accuracy: 1.0000 - val_loss: 2.3505e-05 - val_accuracy: 1.0000\n",
            "Epoch 30/50\n",
            "30/30 [==============================] - 4s 145ms/step - loss: 1.1698e-04 - accuracy: 1.0000 - val_loss: 2.1126e-05 - val_accuracy: 1.0000\n",
            "Epoch 31/50\n",
            "30/30 [==============================] - 4s 146ms/step - loss: 7.1727e-05 - accuracy: 1.0000 - val_loss: 2.1319e-05 - val_accuracy: 1.0000\n",
            "Epoch 32/50\n",
            "30/30 [==============================] - 4s 146ms/step - loss: 1.3202e-04 - accuracy: 1.0000 - val_loss: 2.0061e-05 - val_accuracy: 1.0000\n",
            "Epoch 33/50\n",
            "30/30 [==============================] - 4s 145ms/step - loss: 9.2152e-05 - accuracy: 1.0000 - val_loss: 1.8895e-05 - val_accuracy: 1.0000\n",
            "Epoch 34/50\n",
            "30/30 [==============================] - 4s 145ms/step - loss: 1.8019e-04 - accuracy: 1.0000 - val_loss: 2.4505e-05 - val_accuracy: 1.0000\n",
            "Epoch 35/50\n",
            "30/30 [==============================] - 4s 146ms/step - loss: 1.0308e-04 - accuracy: 1.0000 - val_loss: 2.2087e-05 - val_accuracy: 1.0000\n",
            "Epoch 36/50\n",
            "30/30 [==============================] - 4s 144ms/step - loss: 8.3685e-05 - accuracy: 1.0000 - val_loss: 1.9786e-05 - val_accuracy: 1.0000\n",
            "Epoch 37/50\n",
            "30/30 [==============================] - 4s 145ms/step - loss: 6.6262e-05 - accuracy: 1.0000 - val_loss: 1.9626e-05 - val_accuracy: 1.0000\n",
            "Epoch 38/50\n",
            "30/30 [==============================] - 4s 145ms/step - loss: 1.0084e-04 - accuracy: 1.0000 - val_loss: 2.0238e-05 - val_accuracy: 1.0000\n",
            "Epoch 39/50\n",
            "30/30 [==============================] - 4s 147ms/step - loss: 1.2261e-04 - accuracy: 1.0000 - val_loss: 1.8680e-05 - val_accuracy: 1.0000\n",
            "Epoch 40/50\n",
            "30/30 [==============================] - 4s 146ms/step - loss: 8.2457e-05 - accuracy: 1.0000 - val_loss: 1.7271e-05 - val_accuracy: 1.0000\n",
            "Epoch 41/50\n",
            "30/30 [==============================] - 4s 147ms/step - loss: 1.0187e-04 - accuracy: 1.0000 - val_loss: 1.5515e-05 - val_accuracy: 1.0000\n",
            "Epoch 42/50\n",
            "30/30 [==============================] - 4s 145ms/step - loss: 6.6481e-05 - accuracy: 1.0000 - val_loss: 1.5896e-05 - val_accuracy: 1.0000\n",
            "Epoch 43/50\n",
            "30/30 [==============================] - 4s 144ms/step - loss: 6.4877e-05 - accuracy: 1.0000 - val_loss: 1.6070e-05 - val_accuracy: 1.0000\n",
            "Epoch 44/50\n",
            "30/30 [==============================] - 4s 147ms/step - loss: 6.5641e-05 - accuracy: 1.0000 - val_loss: 1.5224e-05 - val_accuracy: 1.0000\n",
            "Epoch 45/50\n",
            "30/30 [==============================] - 4s 146ms/step - loss: 5.2094e-05 - accuracy: 1.0000 - val_loss: 1.5488e-05 - val_accuracy: 1.0000\n",
            "Epoch 46/50\n",
            "30/30 [==============================] - 4s 147ms/step - loss: 6.3125e-05 - accuracy: 1.0000 - val_loss: 1.5737e-05 - val_accuracy: 1.0000\n",
            "Epoch 47/50\n",
            "30/30 [==============================] - 4s 146ms/step - loss: 9.1665e-05 - accuracy: 1.0000 - val_loss: 1.4542e-05 - val_accuracy: 1.0000\n",
            "Epoch 48/50\n",
            "30/30 [==============================] - 4s 148ms/step - loss: 6.3218e-05 - accuracy: 1.0000 - val_loss: 1.3665e-05 - val_accuracy: 1.0000\n",
            "Epoch 49/50\n",
            "30/30 [==============================] - 4s 147ms/step - loss: 6.8079e-05 - accuracy: 1.0000 - val_loss: 1.2202e-05 - val_accuracy: 1.0000\n",
            "Epoch 50/50\n",
            "30/30 [==============================] - 4s 146ms/step - loss: 6.6045e-05 - accuracy: 1.0000 - val_loss: 1.1761e-05 - val_accuracy: 1.0000\n"
          ]
        }
      ],
      "source": [
        "history = cnn.fit(x = training_set, validation_data = test_set, epochs = 50)"
      ]
    },
    {
      "cell_type": "code",
      "execution_count": null,
      "metadata": {
        "colab": {
          "base_uri": "https://localhost:8080/"
        },
        "id": "42Ak5t-SFkNC",
        "outputId": "e472f4e6-a248-4312-f567-952bb081dc7d"
      },
      "outputs": [
        {
          "output_type": "stream",
          "name": "stdout",
          "text": [
            "Model: \"sequential\"\n",
            "_________________________________________________________________\n",
            " Layer (type)                Output Shape              Param #   \n",
            "=================================================================\n",
            " conv2d (Conv2D)             (None, 62, 62, 32)        896       \n",
            "                                                                 \n",
            " max_pooling2d (MaxPooling2D  (None, 31, 31, 32)       0         \n",
            " )                                                               \n",
            "                                                                 \n",
            " conv2d_1 (Conv2D)           (None, 29, 29, 32)        9248      \n",
            "                                                                 \n",
            " max_pooling2d_1 (MaxPooling  (None, 14, 14, 32)       0         \n",
            " 2D)                                                             \n",
            "                                                                 \n",
            " flatten (Flatten)           (None, 6272)              0         \n",
            "                                                                 \n",
            " dense (Dense)               (None, 128)               802944    \n",
            "                                                                 \n",
            " dense_1 (Dense)             (None, 43)                5547      \n",
            "                                                                 \n",
            "=================================================================\n",
            "Total params: 818,635\n",
            "Trainable params: 818,635\n",
            "Non-trainable params: 0\n",
            "_________________________________________________________________\n"
          ]
        }
      ],
      "source": [
        "cnn.summary()"
      ]
    },
    {
      "cell_type": "markdown",
      "metadata": {
        "id": "5VkuFBhtoGJw"
      },
      "source": [
        "# Visualization"
      ]
    },
    {
      "cell_type": "code",
      "execution_count": null,
      "metadata": {
        "colab": {
          "base_uri": "https://localhost:8080/"
        },
        "id": "BdXMTYu_Frcf",
        "outputId": "88559aff-d1a8-4a59-de51-f0c59f907065"
      },
      "outputs": [
        {
          "output_type": "stream",
          "name": "stdout",
          "text": [
            "dict_keys(['loss', 'accuracy', 'val_loss', 'val_accuracy'])\n"
          ]
        }
      ],
      "source": [
        "print(history.history.keys())"
      ]
    },
    {
      "cell_type": "code",
      "execution_count": null,
      "metadata": {
        "colab": {
          "base_uri": "https://localhost:8080/",
          "height": 295
        },
        "id": "m8JruXJBF-Hn",
        "outputId": "fe99d197-ee06-48f6-eb31-bf5f3a3502cf"
      },
      "outputs": [
        {
          "output_type": "display_data",
          "data": {
            "image/png": "[encoded data removed]",
            "text/plain": [
              "<Figure size 432x288 with 1 Axes>"
            ]
          },
          "metadata": {
            "needs_background": "light"
          }
        }
      ],
      "source": [
        "import matplotlib.pylab as plt\n",
        "plt.plot(history.history['accuracy'])\n",
        "plt.plot(history.history['val_accuracy'])\n",
        "plt.title('model accuracy')\n",
        "plt.ylabel('accuracy')\n",
        "plt.xlabel('epoch')\n",
        "plt.legend(['Train', 'Validation'], loc='lower right')\n",
        "plt.show()"
      ]
    },
    {
      "cell_type": "code",
      "execution_count": null,
      "metadata": {
        "colab": {
          "base_uri": "https://localhost:8080/",
          "height": 295
        },
        "id": "3H23So8NGIHU",
        "outputId": "e05d7aaf-a875-4dee-8593-0a2c2a2cacd6"
      },
      "outputs": [
        {
          "output_type": "display_data",
          "data": {
            "image/png": "[encoded data removed]",
            "text/plain": [
              "<Figure size 432x288 with 1 Axes>"
            ]
          },
          "metadata": {
            "needs_background": "light"
          }
        }
      ],
      "source": [
        "import matplotlib.pylab as plt\n",
        "plt.plot(history.history['loss'])\n",
        "plt.plot(history.history['val_loss'])\n",
        "plt.title('loss')\n",
        "plt.ylabel('accuracy')\n",
        "plt.xlabel('epoch')\n",
        "plt.legend(['Train', 'loss'], loc='center right')\n",
        "plt.show()"
      ]
    },
    {
      "cell_type": "code",
      "execution_count": null,
      "metadata": {
        "colab": {
          "base_uri": "https://localhost:8080/"
        },
        "id": "_81obYT6GUrv",
        "outputId": "1d9f8582-9b00-486a-c3de-5f7d7afcf04f"
      },
      "outputs": [
        {
          "output_type": "stream",
          "name": "stdout",
          "text": [
            "14/14 [==============================] - 1s 66ms/step - loss: 1.1761e-05 - accuracy: 1.0000\n",
            "Test Score 1.1760977940866724e-05\n",
            "Test Accuracy 1.0\n"
          ]
        }
      ],
      "source": [
        "score = cnn.evaluate(test_set, verbose = 1)\n",
        "print('Test Score', score[0])\n",
        "print('Test Accuracy', score[1])"
      ]
    },
    {
      "cell_type": "code",
      "execution_count": null,
      "metadata": {
        "colab": {
          "base_uri": "https://localhost:8080/"
        },
        "id": "3RJILR6C7zaD",
        "outputId": "0c24c2ef-e39a-42ae-e442-3bd203348be4"
      },
      "outputs": [
        {
          "output_type": "execute_result",
          "data": {
            "text/plain": [
              "{'Ahead only': 0,\n",
              " 'Beware of oce_snow': 1,\n",
              " 'Bicycles crossing': 2,\n",
              " 'Bumpy road': 3,\n",
              " 'Childrin crossing': 4,\n",
              " 'Dangerous curv left': 5,\n",
              " 'Dangerous curv right': 6,\n",
              " 'Double curve': 7,\n",
              " 'End of Speed_limit_80kmh': 8,\n",
              " 'End of no passing': 9,\n",
              " 'End of no passing veh_greaterThan_3.5 tons': 10,\n",
              " 'End speed + passing limits': 11,\n",
              " 'Geniral caution': 12,\n",
              " 'Go straight or left': 13,\n",
              " 'Go straight or right': 14,\n",
              " 'Keep left': 15,\n",
              " 'Keep right': 16,\n",
              " 'No entry': 17,\n",
              " 'No passing': 18,\n",
              " 'No passing veh over 3.5 tons': 19,\n",
              " 'No vehicles': 20,\n",
              " 'Pedestrians': 21,\n",
              " 'Priority road': 22,\n",
              " 'Right-of-way at intersection': 23,\n",
              " 'Road narrow on the right': 24,\n",
              " 'Road work': 25,\n",
              " 'Roundabout mandatory': 26,\n",
              " 'Slippery road': 27,\n",
              " 'Speed limit 20kmh': 28,\n",
              " 'Speed limit_100kmh': 29,\n",
              " 'Speed_Limit_80 kmh': 30,\n",
              " 'Speed_limit _60kmh': 31,\n",
              " 'Speed_limit_120kmh': 32,\n",
              " 'Speed_limit_30kmh': 33,\n",
              " 'Speed_limit_50kmh': 34,\n",
              " 'Speed_limit_70kmh': 35,\n",
              " 'Traffic signal': 36,\n",
              " 'Turn left ahead': 37,\n",
              " 'Turn right ahead': 38,\n",
              " 'Veh  3.5 tons prohibited': 39,\n",
              " 'Wild animals crossing': 40,\n",
              " 'Yield': 41,\n",
              " 'stop': 42}"
            ]
          },
          "metadata": {},
          "execution_count": 33
        }
      ],
      "source": [
        "import numpy as np\n",
        "from keras.preprocessing import image\n",
        "test_image = image.load_img('/content/drive/MyDrive/dataset/test_set/Ahead only/img1.jpg', target_size = (64, 64))\n",
        "test_image = image.img_to_array(test_image)\n",
        "test_image = np.expand_dims(test_image, axis = 0)\n",
        "result = cnn.predict(test_image)\n",
        "training_set.class_indices"
      ]
    },
    {
      "cell_type": "code",
      "execution_count": null,
      "metadata": {
        "id": "TncyeYrUGdCG"
      },
      "outputs": [],
      "source": [
        "cnn.save_weights(\"/content/drive/MyDrive/dataset/cnn.h5\")"
      ]
    },
    {
      "cell_type": "code",
      "execution_count": null,
      "metadata": {
        "colab": {
          "base_uri": "https://localhost:8080/"
        },
        "id": "COnXSfSYHKna",
        "outputId": "5736eea9-7773-4c40-8eab-12195d650402"
      },
      "outputs": [
        {
          "output_type": "stream",
          "name": "stdout",
          "text": [
            "INFO:tensorflow:Assets written to: /content/drive/MyDrive/dataset/cnn.5/assets\n"
          ]
        }
      ],
      "source": [
        "cnn.save(\"/content/drive/MyDrive/dataset/cnn.5\")"
      ]
    },
    {
      "cell_type": "code",
      "execution_count": null,
      "metadata": {
        "id": "g351y8MoHhQ9",
        "colab": {
          "base_uri": "https://localhost:8080/"
        },
        "outputId": "17e45c74-9539-41fc-f95c-6926cf7b0325"
      },
      "outputs": [
        {
          "output_type": "stream",
          "name": "stdout",
          "text": [
            "Model Loaded!\n"
          ]
        }
      ],
      "source": [
        "# load model\n",
        "Model = cnn.load_weights('/content/drive/MyDrive/dataset/cnn.h5')\n",
        "print('Model Loaded!')"
      ]
    },
    {
      "cell_type": "markdown",
      "metadata": {
        "id": "U3PZasO0006Z"
      },
      "source": [
        "## Part 4 - Making a single prediction"
      ]
    },
    {
      "cell_type": "code",
      "execution_count": null,
      "metadata": {
        "id": "gsSiWEJY1BPB"
      },
      "outputs": [],
      "source": [
        "import numpy as np\n",
        "from keras.preprocessing import image\n",
        "test_image = image.load_img('/content/drive/MyDrive/dataset/random_data/img1.jpg', target_size = (64, 64))\n",
        "test_image = image.img_to_array(test_image)\n",
        "test_image = np.expand_dims(test_image, axis = 0)\n",
        "result = cnn.predict(test_image)\n",
        "training_set.class_indices\n",
        "if result[0][0] == 1:\n",
        "  prediction = 'Ahead only'\n",
        "else:\n",
        "  prediction = 'Beware of oce_snow'"
      ]
    },
    {
      "cell_type": "code",
      "execution_count": null,
      "metadata": {
        "id": "ED9KB3I54c1i",
        "colab": {
          "base_uri": "https://localhost:8080/"
        },
        "outputId": "7298acc2-2718-4a49-8211-d7685f4584cf"
      },
      "outputs": [
        {
          "output_type": "stream",
          "name": "stdout",
          "text": [
            "Ahead only\n"
          ]
        }
      ],
      "source": [
        "print(prediction)"
      ]
    },
    {
      "cell_type": "markdown",
      "metadata": {
        "id": "U9B1yBYrpFYP"
      },
      "source": [
        "# Deployment Section"
      ]
    },
    {
      "cell_type": "code",
      "execution_count": null,
      "metadata": {
        "colab": {
          "base_uri": "https://localhost:8080/"
        },
        "id": "gnsdVfrs8_Eq",
        "outputId": "22dcdb45-8154-465a-b268-9ed3ff48d176"
      },
      "outputs": [
        {
          "output_type": "stream",
          "name": "stdout",
          "text": [
            "\u001b[K     |████████████████████████████████| 9.9 MB 27.0 MB/s \n",
            "\u001b[K     |████████████████████████████████| 164 kB 58.3 MB/s \n",
            "\u001b[K     |████████████████████████████████| 181 kB 56.8 MB/s \n",
            "\u001b[K     |████████████████████████████████| 4.3 MB 53.8 MB/s \n",
            "\u001b[K     |████████████████████████████████| 76 kB 5.4 MB/s \n",
            "\u001b[K     |████████████████████████████████| 111 kB 60.4 MB/s \n",
            "\u001b[K     |████████████████████████████████| 63 kB 1.8 MB/s \n",
            "\u001b[K     |████████████████████████████████| 128 kB 47.1 MB/s \n",
            "\u001b[K     |████████████████████████████████| 793 kB 50.5 MB/s \n",
            "\u001b[K     |████████████████████████████████| 380 kB 60.2 MB/s \n",
            "\u001b[?25h  Building wheel for blinker (setup.py) ... \u001b[?25l\u001b[?25hdone\n",
            "\u001b[31mERROR: pip's dependency resolver does not currently take into account all the packages that are installed. This behaviour is the source of the following dependency conflicts.\n",
            "jupyter-console 5.2.0 requires prompt-toolkit<2.0.0,>=1.0.0, but you have prompt-toolkit 3.0.28 which is incompatible.\n",
            "google-colab 1.0.0 requires ipykernel~=4.10, but you have ipykernel 6.9.1 which is incompatible.\n",
            "google-colab 1.0.0 requires ipython~=5.5.0, but you have ipython 7.32.0 which is incompatible.\u001b[0m\n"
          ]
        }
      ],
      "source": [
        "! pip install streamlit -q "
      ]
    },
    {
      "cell_type": "code",
      "execution_count": null,
      "metadata": {
        "id": "R1muYg0cK7Xb",
        "colab": {
          "base_uri": "https://localhost:8080/"
        },
        "outputId": "7455622a-13de-4f19-f670-5202455dd517"
      },
      "outputs": [
        {
          "output_type": "stream",
          "name": "stdout",
          "text": [
            "Writing app.py\n"
          ]
        }
      ],
      "source": [
        "%%writefile app.py\n",
        "\n",
        "import streamlit as st\n",
        "st.write('#Hellow')\n",
        "st.write(uploaded = files.upload()\n",
        "for fname in uploaded.keys():\n",
        "  img_path='/content/drive/MyDrive/dataset/random_data/img1.jpg'+fname\n",
        "  img = image.load_img(img_path , target_size=(150,150))\n",
        "  images = image.img_to_array(img)\n",
        "  images=np.expand_dims(images,axis=0)\n",
        "  prediction = cnn.predict(images)\n",
        "  print(fname)\n",
        "  if prediction==0:\n",
        "    print('Ahead Only')\n",
        "  else:\n",
        "    print('Beware of oce_snow'))"
      ]
    },
    {
      "cell_type": "code",
      "execution_count": null,
      "metadata": {
        "colab": {
          "base_uri": "https://localhost:8080/"
        },
        "id": "NFBEZrCr8_JW",
        "outputId": "da2f0fd5-93cf-4b3d-84ca-d023164c1389"
      },
      "outputs": [
        {
          "metadata": {
            "tags": null
          },
          "name": "stdout",
          "output_type": "stream",
          "text": [
            "/bin/bash: streamlit: command not found\n",
            "\u001b[K\u001b[?25hnpx: installed 22 in 3.837s\n",
            "your url is: https://pretty-bullfrog-35.loca.lt\n"
          ]
        }
      ],
      "source": [
        "! streamlit run app.py & npx localtunnel --port 8501"
      ]
    },
    {
      "cell_type": "code",
      "execution_count": null,
      "metadata": {
        "id": "DBkWKVca8_Nl"
      },
      "outputs": [],
      "source": [
        ""
      ]
    }
  ],
  "metadata": {
    "accelerator": "GPU",
    "colab": {
      "collapsed_sections": [],
      "name": "OJT_project_Traffic_Sign_Classification_convolutional_neural_network (1).ipynb",
      "provenance": [],
      "include_colab_link": true
    },
    "kernelspec": {
      "display_name": "Python 3",
      "language": "python",
      "name": "python3"
    },
    "language_info": {
      "codemirror_mode": {
        "name": "ipython",
        "version": 3
      },
      "file_extension": ".py",
      "mimetype": "text/x-python",
      "name": "python",
      "nbconvert_exporter": "python",
      "pygments_lexer": "ipython3",
      "version": "3.6.4"
    }
  },
  "nbformat": 4,
  "nbformat_minor": 0
}